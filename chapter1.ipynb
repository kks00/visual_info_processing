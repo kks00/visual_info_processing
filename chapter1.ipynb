{
 "cells": [
  {
   "cell_type": "markdown",
   "id": "9747586d-2c63-4086-b7a3-1b11519a764a",
   "metadata": {},
   "source": [
    "- ## 영상\n",
    "    - #### 위치값과 밝기값을 가지는 일정한 수의 화소들의 모임\n",
    "        - #### 화소: pixel\n",
    "        \n",
    "    <br>\n",
    "        \n",
    "    - #### 조명의 세기 X 반사계수 \n",
    "        - #### $$ f(x, y) = i(x, y) * r(x, y) $$"
   ]
  },
  {
   "cell_type": "markdown",
   "id": "f567a0af-b2f0-4f57-8387-5b80b0875827",
   "metadata": {},
   "source": [
    "- ## 영상의 형성 과정\n",
    "    - ### 양자화(Quantization)\n",
    "        - #### 제한된 비트 수로 화소값을 나타내기 위해 밝기 값을 정수화 시키는 과정\n",
    "        - #### k 비트로 양자화: $ 2^k $ 레벨\n",
    "\n",
    "    <br>\n",
    "    \n",
    "    - ### 표본화(Sampling)\n",
    "        - #### 무한한 연속된 값을 일정한 해상도에 따라 유한개의 화소수만큼 입력값을 취하는 과정"
   ]
  },
  {
   "cell_type": "markdown",
   "id": "529d7519-d5b5-45ed-8da3-9f7e2a1dfda0",
   "metadata": {},
   "source": [
    "- ## 영상 처리\n",
    "    - ### 영상 처리\n",
    "        - ##### 영상 -> 영상\n",
    "\n",
    "    - ### 컴퓨터 비전\n",
    "        - ##### 영상 -> 정보\n",
    "\n",
    "    - ### 컴퓨터그래픽스\n",
    "        - ##### 정보 -> 영상"
   ]
  }
 ],
 "metadata": {
  "kernelspec": {
   "display_name": "Python 3 (ipykernel)",
   "language": "python",
   "name": "python3"
  },
  "language_info": {
   "codemirror_mode": {
    "name": "ipython",
    "version": 3
   },
   "file_extension": ".py",
   "mimetype": "text/x-python",
   "name": "python",
   "nbconvert_exporter": "python",
   "pygments_lexer": "ipython3",
   "version": "3.10.13"
  }
 },
 "nbformat": 4,
 "nbformat_minor": 5
}
