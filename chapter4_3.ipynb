{
 "cells": [
  {
   "cell_type": "markdown",
   "id": "4f066df1-4d21-47cf-8f16-5b19d0c457f7",
   "metadata": {},
   "source": [
    "- ### 동영상 입력\n",
    "    - ### cv2.VideoCapture(filename/device)\n",
    "        - #### .get(속성 식별자)\n",
    "            - ##### 지정된 속성의 값 반환\n",
    "            - ##### 속성 식별자\n",
    "                - ##### cv2.CAP_PROP_FRAME_WIDTH, cv2.CAP_PROP_FRAME_HEIGHT: 가로, 세로 길이\n",
    "                - ##### cv2.CAP_PROP_EXPOSURE: 노출\n",
    "                - ##### cv2.CAP_PROP_BRIGHTNESS: 밝기\n",
    "                - ##### cv2.CAP_PROP_ZOOM: 줌\n",
    "                - ##### cv2.CAP_PROP_FOCUS: 포커스\n",
    "             \n",
    "      <br>\n",
    "        \n",
    "        - #### .grab(), .retrieve()\n",
    "            - #### .grab(): 장치에게 현재 영상을 메모리에 저장하도록 요청\n",
    "            - #### .retrieve(): grab한 영상 전달 받기\n",
    "            - ##### 이미지 처리 알고리즘이 fps 만족하지 못할 경우, 처리 알고리즘 내에서 grab() 계속 호출해 두었다가 retrieve()로 수신\n",
    "         \n",
    "        - #### .read()\n",
    "            - ##### .grab() + .retrieve()\n",
    "            - ##### 현재 시점에 캡처된 이미지 1장 가져오기"
   ]
  },
  {
   "cell_type": "markdown",
   "id": "c02da4d6-449d-4665-b4ae-1fc769b44e15",
   "metadata": {},
   "source": [
    "---"
   ]
  },
  {
   "cell_type": "markdown",
   "id": "c159258b-5f65-4194-a29c-7d073323e0eb",
   "metadata": {},
   "source": [
    "- ### 동영상 출력\n",
    "    - ### cv2.VideoWriter(filename, fourcc, fps, fameSize)\n",
    "        - #### fourcc: 코덱 이름 4문자 ex) DX50\n",
    "        - #### fps: 초당 프레임 수 ex) 29.97\n",
    "        - #### frameSize: 프레임 크기 ex) (640, 360)\n",
    "     \n",
    "          <br>\n",
    "     \n",
    "        - #### .write(frame)\n",
    "            - ##### 프레임을 동영상으로 저장\n",
    "\n",
    "    <br>\n",
    "\n",
    "    - #### 프레임 간격(delay)\n",
    "        - #### cv2.waitKey의 파라미터로 사용\n",
    "        - #### $$ delay = round(\\frac{1000}{fps}) $$"
   ]
  }
 ],
 "metadata": {
  "kernelspec": {
   "display_name": "Python 3 (ipykernel)",
   "language": "python",
   "name": "python3"
  },
  "language_info": {
   "codemirror_mode": {
    "name": "ipython",
    "version": 3
   },
   "file_extension": ".py",
   "mimetype": "text/x-python",
   "name": "python",
   "nbconvert_exporter": "python",
   "pygments_lexer": "ipython3",
   "version": "3.10.13"
  }
 },
 "nbformat": 4,
 "nbformat_minor": 5
}
