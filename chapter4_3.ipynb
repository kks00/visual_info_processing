{
 "cells": [
  {
   "cell_type": "code",
   "execution_count": 3,
   "id": "8a89d492-2beb-4c1f-bf5d-faaa9f52daed",
   "metadata": {},
   "outputs": [],
   "source": [
    "import numpy as np\n",
    "import cv2\n",
    "from show_image import show_rgb_image\n",
    "from show_image import show_images\n",
    "%matplotlib inline"
   ]
  },
  {
   "cell_type": "markdown",
   "id": "629d1c84-15b6-4529-b701-b4103c7bc34f",
   "metadata": {},
   "source": [
    "---"
   ]
  },
  {
   "cell_type": "markdown",
   "id": "4f066df1-4d21-47cf-8f16-5b19d0c457f7",
   "metadata": {},
   "source": [
    "- ### 동영상 입력"
   ]
  },
  {
   "cell_type": "code",
   "execution_count": null,
   "id": "6fbf47ab-991f-4c7d-b8e4-b5de77a4bc29",
   "metadata": {},
   "outputs": [],
   "source": []
  }
 ],
 "metadata": {
  "kernelspec": {
   "display_name": "Python 3 (ipykernel)",
   "language": "python",
   "name": "python3"
  },
  "language_info": {
   "codemirror_mode": {
    "name": "ipython",
    "version": 3
   },
   "file_extension": ".py",
   "mimetype": "text/x-python",
   "name": "python",
   "nbconvert_exporter": "python",
   "pygments_lexer": "ipython3",
   "version": "3.10.13"
  }
 },
 "nbformat": 4,
 "nbformat_minor": 5
}
