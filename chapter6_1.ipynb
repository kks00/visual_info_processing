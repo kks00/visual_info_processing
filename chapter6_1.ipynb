{
 "cells": [
  {
   "cell_type": "code",
   "execution_count": 1,
   "id": "d5711f00-9a84-4690-b778-63967796e3ca",
   "metadata": {},
   "outputs": [],
   "source": [
    "import numpy as np\n",
    "import cv2\n",
    "from show_image import show_rgb_image\n",
    "from show_image import show_images\n",
    "%matplotlib inline"
   ]
  },
  {
   "cell_type": "markdown",
   "id": "d9188d7c-3704-4d97-a8c9-77c0b3f0b5fd",
   "metadata": {},
   "source": [
    "---"
   ]
  },
  {
   "cell_type": "markdown",
   "id": "ce0577c5-eb99-43a2-8d10-0ad51eaa1eaa",
   "metadata": {},
   "source": [
    "- ## 영상 화소 접근방법"
   ]
  },
  {
   "cell_type": "code",
   "execution_count": null,
   "id": "bc8f7ce8-8165-48f4-bd4b-971baea1a419",
   "metadata": {},
   "outputs": [],
   "source": []
  }
 ],
 "metadata": {
  "kernelspec": {
   "display_name": "Python 3 (ipykernel)",
   "language": "python",
   "name": "python3"
  },
  "language_info": {
   "codemirror_mode": {
    "name": "ipython",
    "version": 3
   },
   "file_extension": ".py",
   "mimetype": "text/x-python",
   "name": "python",
   "nbconvert_exporter": "python",
   "pygments_lexer": "ipython3",
   "version": "3.10.13"
  }
 },
 "nbformat": 4,
 "nbformat_minor": 5
}
